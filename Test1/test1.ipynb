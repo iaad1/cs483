{
 "cells": [
  {
   "cell_type": "markdown",
   "id": "4c6f11ac",
   "metadata": {},
   "source": [
    "Judah Tanninen\n",
    "https://www.kaggle.com/datasets/nelgiriyewithana/top-spotify-songs-2023/data"
   ]
  },
  {
   "cell_type": "code",
   "execution_count": 1,
   "id": "9a8b1355",
   "metadata": {},
   "outputs": [],
   "source": [
    "# shbang\n",
    "# Judah Tanninen\n",
    "# Description: Take home test, using spotify most streamed data.\n",
    "\n",
    "# Imports\n",
    "import pandas as pd\n",
    "import numpy as np\n",
    "from sklearn.linear_model import LinearRegression\n",
    "from sklearn.pipeline import Pipeline\n",
    "from sklearn.preprocessing import MinMaxScaler"
   ]
  },
  {
   "cell_type": "code",
   "execution_count": null,
   "id": "154dfcdd",
   "metadata": {},
   "outputs": [],
   "source": [
    "# Open the csv into a dataframe\n",
    "df = pd.read_csv('spotify-2023.csv')\n",
    "# Determine what columns we are gonna use\n",
    "columns=['artist_count', 'in_spotify_playlists', 'released_month',]"
   ]
  }
 ],
 "metadata": {
  "kernelspec": {
   "display_name": "Python 3 (ipykernel)",
   "language": "python",
   "name": "python3"
  },
  "language_info": {
   "codemirror_mode": {
    "name": "ipython",
    "version": 3
   },
   "file_extension": ".py",
   "mimetype": "text/x-python",
   "name": "python",
   "nbconvert_exporter": "python",
   "pygments_lexer": "ipython3",
   "version": "3.11.4"
  }
 },
 "nbformat": 4,
 "nbformat_minor": 5
}
