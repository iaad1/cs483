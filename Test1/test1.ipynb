{
 "cells": [
  {
   "cell_type": "markdown",
   "id": "4c6f11ac",
   "metadata": {},
   "source": [
    "#### Judah Tanninen\n",
    "https://www.kaggle.com/datasets/nelgiriyewithana/top-spotify-songs-2023/data\n",
    "\n",
    "---"
   ]
  },
  {
   "cell_type": "code",
   "execution_count": 25,
   "id": "9a8b1355",
   "metadata": {},
   "outputs": [],
   "source": [
    "# shbang\n",
    "# Judah Tanninen\n",
    "# Description: Take home test, using spotify most streamed data.\n",
    "\n",
    "# Imports\n",
    "import pandas as pd\n",
    "import numpy as np\n",
    "from sklearn.linear_model import LinearRegression\n",
    "from sklearn.pipeline import Pipeline\n",
    "from sklearn.preprocessing import MinMaxScaler\n",
    "from sklearn.model_selection import train_test_split # Does the splitting for me\n",
    "from sklearn.metrics import r2_score"
   ]
  },
  {
   "cell_type": "code",
   "execution_count": 26,
   "id": "154dfcdd",
   "metadata": {},
   "outputs": [
    {
     "name": "stdout",
     "output_type": "stream",
     "text": [
      "     in_spotify_playlists  in_spotify_charts  in_apple_charts  \\\n",
      "257                   244                 12               84   \n",
      "412                  3045                  6               53   \n",
      "716                  1188                  0                1   \n",
      "746                   686                  2                6   \n",
      "951                  1320                  0               26   \n",
      "..                    ...                ...              ...   \n",
      "472                   892                  0               17   \n",
      "509                  2297                  0               29   \n",
      "114                 41751                 25               32   \n",
      "447                  8879                  0              107   \n",
      "208                   332                  5               41   \n",
      "\n",
      "     in_deezer_charts in_shazam_charts  \n",
      "257                 2                9  \n",
      "412                 1               32  \n",
      "716                 0                1  \n",
      "746                 0               15  \n",
      "951                 0                0  \n",
      "..                ...              ...  \n",
      "472                 0                0  \n",
      "509                 0                0  \n",
      "114                 0              666  \n",
      "447                 0                1  \n",
      "208                 0               19  \n",
      "\n",
      "[666 rows x 5 columns]\n",
      "     in_spotify_playlists  in_spotify_charts  in_apple_charts  \\\n",
      "682                   601                  0               73   \n",
      "617                  5481                  0               30   \n",
      "497                   680                  0               15   \n",
      "278                  7613                 33               90   \n",
      "451                  3788                  0                3   \n",
      "..                    ...                ...              ...   \n",
      "193                    86                 11               33   \n",
      "880                   685                  2                0   \n",
      "124                   457                 24              116   \n",
      "441                 25653                  0              132   \n",
      "110                 26792                 32              113   \n",
      "\n",
      "     in_deezer_charts in_shazam_charts  \n",
      "682                 0                0  \n",
      "617                 0                0  \n",
      "497                 0                0  \n",
      "278                15               55  \n",
      "451                 0                0  \n",
      "..                ...              ...  \n",
      "193                 0                1  \n",
      "880                 0               30  \n",
      "124                 3                2  \n",
      "441                 0                0  \n",
      "110                 0              458  \n",
      "\n",
      "[286 rows x 5 columns]\n",
      "257     118810253\n",
      "412     571386359\n",
      "716     312622938\n",
      "746     146363130\n",
      "951     133895612\n",
      "          ...    \n",
      "472      65362788\n",
      "509     116903579\n",
      "114    1205951614\n",
      "447     663832097\n",
      "208      70106975\n",
      "Name: streams, Length: 666, dtype: object\n",
      "682     154119539\n",
      "617     489945871\n",
      "497      51641685\n",
      "278     782369383\n",
      "451     520034544\n",
      "          ...    \n",
      "193      30343206\n",
      "880     129314708\n",
      "124     330346424\n",
      "441    1449779435\n",
      "110    1093605526\n",
      "Name: streams, Length: 286, dtype: object\n"
     ]
    }
   ],
   "source": [
    "# Open the csv into a dataframe\n",
    "df = pd.read_csv('spotify-2023.csv', encoding='ISO-8859-1') # Goofy encoding, looked at how other people did it on kaggle (Didn't look at other stuff)\n",
    "# Determine what columns we are gonna use (determined through heat map and personal preference)\n",
    "columns=['in_spotify_playlists', 'in_spotify_charts', 'in_apple_charts', 'in_deezer_charts', 'in_shazam_charts']\n",
    "\n",
    "target_feature='streams' # Total streams (ever)\n",
    "# Above feature being total streams ever makes the score a lot worse. We could do a lot more if we had just yearly data.\n",
    "\n",
    "# Do some initial data cleaning, before we can use the df\n",
    "# Remove commas from any number fields\n",
    "df.replace(',','', regex=True, inplace=True) # Remove commas, they appear in some columns numbers\n",
    "\n",
    "df.fillna(value=0, inplace=True) # Replace na and nan values with 0s, may not be needed\n",
    "\n",
    "# One of the streams is a goofy long string, need to remove that row\n",
    "df = df[pd.to_numeric(df[target_feature], errors='coerce').notnull()]\n",
    "# Finished data cleaning\n",
    "\n",
    "xs = df[columns] # Get the columns we want\n",
    "ys = df[target_feature] # Get all the targets\n",
    "# Split them up nicely using the train_test_split\n",
    "x_train, x_test, y_train, y_test = train_test_split(xs, ys, test_size=0.3)\n",
    "# Printing all the splits\n",
    "print(x_train)\n",
    "print(x_test)\n",
    "print(y_train)\n",
    "print(y_test)"
   ]
  },
  {
   "cell_type": "code",
   "execution_count": 27,
   "id": "dd898766",
   "metadata": {},
   "outputs": [
    {
     "data": {
      "text/html": [
       "<style>#sk-container-id-7 {color: black;}#sk-container-id-7 pre{padding: 0;}#sk-container-id-7 div.sk-toggleable {background-color: white;}#sk-container-id-7 label.sk-toggleable__label {cursor: pointer;display: block;width: 100%;margin-bottom: 0;padding: 0.3em;box-sizing: border-box;text-align: center;}#sk-container-id-7 label.sk-toggleable__label-arrow:before {content: \"▸\";float: left;margin-right: 0.25em;color: #696969;}#sk-container-id-7 label.sk-toggleable__label-arrow:hover:before {color: black;}#sk-container-id-7 div.sk-estimator:hover label.sk-toggleable__label-arrow:before {color: black;}#sk-container-id-7 div.sk-toggleable__content {max-height: 0;max-width: 0;overflow: hidden;text-align: left;background-color: #f0f8ff;}#sk-container-id-7 div.sk-toggleable__content pre {margin: 0.2em;color: black;border-radius: 0.25em;background-color: #f0f8ff;}#sk-container-id-7 input.sk-toggleable__control:checked~div.sk-toggleable__content {max-height: 200px;max-width: 100%;overflow: auto;}#sk-container-id-7 input.sk-toggleable__control:checked~label.sk-toggleable__label-arrow:before {content: \"▾\";}#sk-container-id-7 div.sk-estimator input.sk-toggleable__control:checked~label.sk-toggleable__label {background-color: #d4ebff;}#sk-container-id-7 div.sk-label input.sk-toggleable__control:checked~label.sk-toggleable__label {background-color: #d4ebff;}#sk-container-id-7 input.sk-hidden--visually {border: 0;clip: rect(1px 1px 1px 1px);clip: rect(1px, 1px, 1px, 1px);height: 1px;margin: -1px;overflow: hidden;padding: 0;position: absolute;width: 1px;}#sk-container-id-7 div.sk-estimator {font-family: monospace;background-color: #f0f8ff;border: 1px dotted black;border-radius: 0.25em;box-sizing: border-box;margin-bottom: 0.5em;}#sk-container-id-7 div.sk-estimator:hover {background-color: #d4ebff;}#sk-container-id-7 div.sk-parallel-item::after {content: \"\";width: 100%;border-bottom: 1px solid gray;flex-grow: 1;}#sk-container-id-7 div.sk-label:hover label.sk-toggleable__label {background-color: #d4ebff;}#sk-container-id-7 div.sk-serial::before {content: \"\";position: absolute;border-left: 1px solid gray;box-sizing: border-box;top: 0;bottom: 0;left: 50%;z-index: 0;}#sk-container-id-7 div.sk-serial {display: flex;flex-direction: column;align-items: center;background-color: white;padding-right: 0.2em;padding-left: 0.2em;position: relative;}#sk-container-id-7 div.sk-item {position: relative;z-index: 1;}#sk-container-id-7 div.sk-parallel {display: flex;align-items: stretch;justify-content: center;background-color: white;position: relative;}#sk-container-id-7 div.sk-item::before, #sk-container-id-7 div.sk-parallel-item::before {content: \"\";position: absolute;border-left: 1px solid gray;box-sizing: border-box;top: 0;bottom: 0;left: 50%;z-index: -1;}#sk-container-id-7 div.sk-parallel-item {display: flex;flex-direction: column;z-index: 1;position: relative;background-color: white;}#sk-container-id-7 div.sk-parallel-item:first-child::after {align-self: flex-end;width: 50%;}#sk-container-id-7 div.sk-parallel-item:last-child::after {align-self: flex-start;width: 50%;}#sk-container-id-7 div.sk-parallel-item:only-child::after {width: 0;}#sk-container-id-7 div.sk-dashed-wrapped {border: 1px dashed gray;margin: 0 0.4em 0.5em 0.4em;box-sizing: border-box;padding-bottom: 0.4em;background-color: white;}#sk-container-id-7 div.sk-label label {font-family: monospace;font-weight: bold;display: inline-block;line-height: 1.2em;}#sk-container-id-7 div.sk-label-container {text-align: center;}#sk-container-id-7 div.sk-container {/* jupyter's `normalize.less` sets `[hidden] { display: none; }` but bootstrap.min.css set `[hidden] { display: none !important; }` so we also need the `!important` here to be able to override the default hidden behavior on the sphinx rendered scikit-learn.org. See: https://github.com/scikit-learn/scikit-learn/issues/21755 */display: inline-block !important;position: relative;}#sk-container-id-7 div.sk-text-repr-fallback {display: none;}</style><div id=\"sk-container-id-7\" class=\"sk-top-container\"><div class=\"sk-text-repr-fallback\"><pre>Pipeline(steps=[(&#x27;scale&#x27;, MinMaxScaler()),\n",
       "                (&#x27;predict&#x27;, LinearRegression(n_jobs=-1))])</pre><b>In a Jupyter environment, please rerun this cell to show the HTML representation or trust the notebook. <br />On GitHub, the HTML representation is unable to render, please try loading this page with nbviewer.org.</b></div><div class=\"sk-container\" hidden><div class=\"sk-item sk-dashed-wrapped\"><div class=\"sk-label-container\"><div class=\"sk-label sk-toggleable\"><input class=\"sk-toggleable__control sk-hidden--visually\" id=\"sk-estimator-id-19\" type=\"checkbox\" ><label for=\"sk-estimator-id-19\" class=\"sk-toggleable__label sk-toggleable__label-arrow\">Pipeline</label><div class=\"sk-toggleable__content\"><pre>Pipeline(steps=[(&#x27;scale&#x27;, MinMaxScaler()),\n",
       "                (&#x27;predict&#x27;, LinearRegression(n_jobs=-1))])</pre></div></div></div><div class=\"sk-serial\"><div class=\"sk-item\"><div class=\"sk-estimator sk-toggleable\"><input class=\"sk-toggleable__control sk-hidden--visually\" id=\"sk-estimator-id-20\" type=\"checkbox\" ><label for=\"sk-estimator-id-20\" class=\"sk-toggleable__label sk-toggleable__label-arrow\">MinMaxScaler</label><div class=\"sk-toggleable__content\"><pre>MinMaxScaler()</pre></div></div></div><div class=\"sk-item\"><div class=\"sk-estimator sk-toggleable\"><input class=\"sk-toggleable__control sk-hidden--visually\" id=\"sk-estimator-id-21\" type=\"checkbox\" ><label for=\"sk-estimator-id-21\" class=\"sk-toggleable__label sk-toggleable__label-arrow\">LinearRegression</label><div class=\"sk-toggleable__content\"><pre>LinearRegression(n_jobs=-1)</pre></div></div></div></div></div></div></div>"
      ],
      "text/plain": [
       "Pipeline(steps=[('scale', MinMaxScaler()),\n",
       "                ('predict', LinearRegression(n_jobs=-1))])"
      ]
     },
     "execution_count": 27,
     "metadata": {},
     "output_type": "execute_result"
    }
   ],
   "source": [
    "# Making a pipeline\n",
    "pipe = Pipeline([\n",
    "    ('scale', MinMaxScaler()),\n",
    "    ('predict', LinearRegression(n_jobs = -1)) # Basic linear regression\n",
    "])\n",
    "\n",
    "# Now, fit the ol training data\n",
    "pipe.fit(x_train, y_train)\n"
   ]
  },
  {
   "cell_type": "code",
   "execution_count": 28,
   "id": "b44fb0d8",
   "metadata": {},
   "outputs": [
    {
     "name": "stdout",
     "output_type": "stream",
     "text": [
      "0.6701846046919\n"
     ]
    }
   ],
   "source": [
    "# Alright, now, we have fit the data, and should be good to predict values\n",
    "y_pred = pipe.predict(x_test) # Returns its predictions for y values\n",
    "# Calculate the r squared score (averages between 0.6 and 0.7)\n",
    "r2 = r2_score(y_test, y_pred)\n",
    "print(r2)"
   ]
  },
  {
   "cell_type": "markdown",
   "id": "51dd3bf5",
   "metadata": {},
   "source": [
    "### Questions\n",
    "---\n",
    "#### Why subset?\n",
    "At first, I guessed kind of randomly, assuming songs in playlists or in charts were more likely to have more streams.\n",
    "This was partially correct, after running some hotmaps, i found the following:\n",
    "- Spotify playlists is by far the best parameter, removing it drops the average from an .65 to around the .2 area.\n",
    "- None of the other programs (apple music, shazam, etc) had any relation with playlist - streams, so those got wacked\n",
    "- Being in the charts is in general a good indicator of more streams\n",
    "So, my subset is made purely of how many charts and spotify playlists the song is in\n",
    "---\n",
    "#### Did it perform well?\n",
    "Well, kind of, averaging around a 0.6 - 0.7 is better than half (I think), so its not too bad. I thought I would be able to get something better, but after looking at the data, it makes sense why I couldn't.\n",
    "\n",
    "All the features related to the type of music (bpm, valence, energy, etc) had almost zero correlation with the streams, so that removed almost half of the columns. Another big issue is that the streams are total for all time, not for this year, which means that the year column is mostly useless, and all the charts/playlists are docked a decent amount, because people play a lot of old music.\n",
    "\n",
    "---\n",
    "#### Why R-Squared?\n",
    "I'm lazy.\n",
    "\n",
    "No, but really, I've already used r squared, and have a better feel for what is good vs what is bad.\n",
    "Also, r^2 can show negative correlations to any negative number, so when I was trying out artists as a numeric column, it had a crazy low r^2 score (like -3.2) which means it was just an awful feature to use.\n",
    "\n",
    "Finally, this is a regression task, and r squared is for regression, so it's a good metric to choose. (I tried out a mean error squared as well, but I didn't understand it's output that much)"
   ]
  },
  {
   "cell_type": "code",
   "execution_count": null,
   "id": "86aa0a9f",
   "metadata": {},
   "outputs": [],
   "source": []
  },
  {
   "cell_type": "code",
   "execution_count": null,
   "id": "fed952ef",
   "metadata": {},
   "outputs": [],
   "source": []
  }
 ],
 "metadata": {
  "kernelspec": {
   "display_name": "Python 3 (ipykernel)",
   "language": "python",
   "name": "python3"
  },
  "language_info": {
   "codemirror_mode": {
    "name": "ipython",
    "version": 3
   },
   "file_extension": ".py",
   "mimetype": "text/x-python",
   "name": "python",
   "nbconvert_exporter": "python",
   "pygments_lexer": "ipython3",
   "version": "3.11.4"
  }
 },
 "nbformat": 4,
 "nbformat_minor": 5
}
